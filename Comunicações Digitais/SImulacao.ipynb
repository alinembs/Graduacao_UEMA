{
 "cells": [
  {
   "cell_type": "code",
   "execution_count": 1,
   "id": "f0a8dea2",
   "metadata": {},
   "outputs": [],
   "source": [
    "import numpy as np"
   ]
  },
  {
   "cell_type": "markdown",
   "id": "cbed828a",
   "metadata": {},
   "source": [
    "Neste código em Python, Os símbolos de entrada tx_symbols são gerados aleatoriamente e modulados em uma modulação BPSK.\n",
    "\n",
    "O canal de desvanecimento Rayleigh é simulado gerando-se uma sequência complexa h com componentes reais e imaginárias aleatórias.\n",
    "\n",
    "O ruído AWGN complexo é gerado com base na relação sinal-ruído por bit EbNo_dB e adicionado ao sinal transmitido.\n",
    "\n",
    "No receptor, é realizada a combinação de canal multiplicando-se o sinal recebido pelo canal complexo h. Em seguida, é feita a demodulação BPSK para obter os símbolos recebidos rx_symbols_demodulated.\n",
    "\n",
    "A taxa de erro de bit (BER) é calculada comparando-se os símbolos de entrada transmitidos com os símbolos recebidos, e o resultado é exibido na saída.\n"
   ]
  },
  {
   "cell_type": "code",
   "execution_count": 12,
   "id": "c619d2b5",
   "metadata": {},
   "outputs": [],
   "source": [
    "# Parâmetros da simulação\n",
    "n = 100000                  # Número de símbolos transmitidos\n",
    "EbNo_dB = 10 "
   ]
  },
  {
   "cell_type": "code",
   "execution_count": 13,
   "id": "2781a087",
   "metadata": {},
   "outputs": [],
   "source": [
    "# Geração dos bits de entrada\n",
    "bits = np.random.randint(2, size=n)  # Geração aleatória de 0s e 1s"
   ]
  },
  {
   "cell_type": "code",
   "execution_count": 14,
   "id": "57405128",
   "metadata": {},
   "outputs": [],
   "source": [
    "# Mapeamento dos bits para o sinal de transmissão\n",
    "tx_symbols = np.where(bits == 1, 1, -1)"
   ]
  },
  {
   "cell_type": "code",
   "execution_count": 15,
   "id": "2dc15e25",
   "metadata": {},
   "outputs": [],
   "source": [
    "# Geração dos símbolos de entrada\n",
    "#tx_symbols = np.random.randint(2, size=n)  # Geração aleatória de 0s e 1s\n"
   ]
  },
  {
   "cell_type": "code",
   "execution_count": 16,
   "id": "9337c4b9",
   "metadata": {},
   "outputs": [],
   "source": [
    "\n",
    "# Modulação BPSK\n",
    "#tx_symbols_modulated = 2*tx_symbols - 1    # Mapeamento 0/1 para -1/+1"
   ]
  },
  {
   "cell_type": "code",
   "execution_count": 17,
   "id": "3eedaab5",
   "metadata": {},
   "outputs": [],
   "source": [
    "\n",
    "# Canal de desvanecimento Rayleigh\n",
    "h = (np.random.randn(n) + 1j*np.random.randn(n))/np.sqrt(2)   # Canal Rayleigh complexo\n"
   ]
  },
  {
   "cell_type": "code",
   "execution_count": 18,
   "id": "0cb09bc5",
   "metadata": {},
   "outputs": [],
   "source": [
    "# Geração de ruído AWGN\n",
    "EbNo = 10**(EbNo_dB/10)     # Relação sinal-ruído por bit linear\n",
    "noise_variance = 1/(2*EbNo) # Variância do ruído\n",
    "noise = np.sqrt(noise_variance)*(np.random.randn(n) + 1j*np.random.randn(n))   # Ruído AWGN complexo\n"
   ]
  },
  {
   "cell_type": "code",
   "execution_count": 19,
   "id": "146c4aaf",
   "metadata": {},
   "outputs": [],
   "source": [
    "# Sinal recebido no receptor\n",
    "#rx_symbols = h*tx_symbols_modulated + noise\n"
   ]
  },
  {
   "cell_type": "code",
   "execution_count": 20,
   "id": "c9fc7f70",
   "metadata": {},
   "outputs": [],
   "source": [
    "# Sinal recebido no receptor\n",
    "rx_symbols = h*tx_symbols + noise"
   ]
  },
  {
   "cell_type": "code",
   "execution_count": 21,
   "id": "0db81693",
   "metadata": {},
   "outputs": [],
   "source": [
    "# Recepção (combinação de canal e demodulação)\n",
    "#rx_symbols_demodulated = np.real(rx_symbols) > 0   # Demodulação BPSK\n"
   ]
  },
  {
   "cell_type": "code",
   "execution_count": 22,
   "id": "85b749b4",
   "metadata": {},
   "outputs": [],
   "source": [
    "# Recepção (combinação de canal e demodulação)\n",
    "rx_bits = np.where(np.real(rx_symbols) > 0, 1, 0)\n"
   ]
  },
  {
   "cell_type": "code",
   "execution_count": 23,
   "id": "6edba92c",
   "metadata": {},
   "outputs": [],
   "source": [
    "# Cálculo da taxa de erro de bit (BER)\n",
    "#num_errors = np.sum(tx_symbols != rx_symbols_demodulated)\n",
    "#ber = num_errors/n"
   ]
  },
  {
   "cell_type": "code",
   "execution_count": 24,
   "id": "566861ff",
   "metadata": {},
   "outputs": [],
   "source": [
    "# Cálculo da taxa de erro de bit (BER)\n",
    "num_errors = np.sum(bits != rx_bits)\n",
    "ber = num_errors/n"
   ]
  },
  {
   "cell_type": "code",
   "execution_count": 25,
   "id": "3135f1f4",
   "metadata": {},
   "outputs": [
    {
     "name": "stdout",
     "output_type": "stream",
     "text": [
      "Relação sinal-ruído por bit (Eb/No): 10 dB\n",
      "Taxa de erro de bit (BER): 0.49798\n"
     ]
    }
   ],
   "source": [
    "# Exibição dos resultados\n",
    "print('Relação sinal-ruído por bit (Eb/No):', EbNo_dB, 'dB')\n",
    "print('Taxa de erro de bit (BER):', ber)"
   ]
  },
  {
   "cell_type": "code",
   "execution_count": null,
   "id": "410a9fa2",
   "metadata": {},
   "outputs": [],
   "source": []
  }
 ],
 "metadata": {
  "kernelspec": {
   "display_name": "Python 3 (ipykernel)",
   "language": "python",
   "name": "python3"
  },
  "language_info": {
   "codemirror_mode": {
    "name": "ipython",
    "version": 3
   },
   "file_extension": ".py",
   "mimetype": "text/x-python",
   "name": "python",
   "nbconvert_exporter": "python",
   "pygments_lexer": "ipython3",
   "version": "3.10.6"
  }
 },
 "nbformat": 4,
 "nbformat_minor": 5
}
